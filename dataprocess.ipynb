{
 "cells": [
  {
   "cell_type": "markdown",
   "metadata": {},
   "source": [
    "## 数据清洗代码"
   ]
  },
  {
   "cell_type": "code",
   "execution_count": 1,
   "metadata": {},
   "outputs": [],
   "source": [
    "import pandas as pd\n",
    "import os"
   ]
  },
  {
   "cell_type": "code",
   "execution_count": 2,
   "metadata": {},
   "outputs": [],
   "source": [
    "def createTrainSet(readpath:str,savepath:str,labelfilepath:str=\"./data/train/outputs/主蒸汽流量.csv\")->pd.DataFrame:\n",
    "    \"\"\"\n",
    "    :param readpath: 存放各指标数据集的路径\n",
    "    :param labelfilepath: 训练集label的存放位置(csv)\n",
    "    :return DataFrame: 生成训练集/测试集(pandas DataFrame)\n",
    "    \"\"\"\n",
    "    list_dfs = []\n",
    "    for file in os.listdir(readpath):\n",
    "        # 需将\"时间\"解析为日期格式\n",
    "        df_onefile = pd.read_csv((readpath+file),encoding='utf-8',index_col=['时间'],parse_dates=['时间'])\n",
    "        list_dfs.append(df_onefile)\n",
    "    # 读取label\n",
    "    df_labeloftrain = pd.read_csv(labelfilepath,encoding='utf-8',index_col=['时间'],parse_dates=['时间'])\n",
    "    list_dfs.append(df_labeloftrain)\n",
    "\n",
    "    # 水平连接(默认取的是'outer')\n",
    "    df_train = pd.concat(objs=list_dfs,axis=1)\n",
    "    df_train.to_csv(savepath,encoding = 'utf-8-sig',)"
   ]
  },
  {
   "cell_type": "code",
   "execution_count": 3,
   "metadata": {},
   "outputs": [],
   "source": [
    "# 创建训练集\n",
    "createTrainSet('./data/train/inputs/',\"./data/train/trainset.csv\")"
   ]
  },
  {
   "cell_type": "code",
   "execution_count": 5,
   "metadata": {},
   "outputs": [
    {
     "name": "stderr",
     "output_type": "stream",
     "text": [
      "C:\\Users\\Administrator\\AppData\\Local\\Temp\\ipykernel_12084\\1264403500.py:1: DtypeWarning: Columns (11,13,17,20) have mixed types. Specify dtype option on import or set low_memory=False.\n",
      "  df_trainSet = pd.read_csv(\"./data/train/trainset.csv\",encoding='utf-8-sig',index_col=['时间'],parse_dates=['时间'])\n"
     ]
    },
    {
     "name": "stdout",
     "output_type": "stream",
     "text": [
      "<class 'pandas.core.frame.DataFrame'>\n",
      "DatetimeIndex: 257400 entries, 2021-12-20 00:00:00 to 2021-12-22 23:29:59\n",
      "Data columns (total 22 columns):\n",
      " #   Column     Non-Null Count   Dtype  \n",
      "---  ------     --------------   -----  \n",
      " 0   CO含量       257400 non-null  float64\n",
      " 1   HCL含量      257400 non-null  float64\n",
      " 2   NOx含量      257400 non-null  float64\n",
      " 3   SO2含量      257400 non-null  float64\n",
      " 4   一次风调门      257400 non-null  float64\n",
      " 5   一次风量       257400 non-null  float64\n",
      " 6   主蒸汽流量设定值   257400 non-null  float64\n",
      " 7   二次风调门      257400 non-null  float64\n",
      " 8   二次风量       257400 non-null  float64\n",
      " 9   引风机转速      257400 non-null  float64\n",
      " 10  推料器启停      257384 non-null  object \n",
      " 11  推料器手动指令    257400 non-null  float64\n",
      " 12  推料器自动投退信号  257384 non-null  object \n",
      " 13  推料器自动指令    257400 non-null  float64\n",
      " 14  氧量设定值      257400 non-null  float64\n",
      " 15  汽包水位       257400 non-null  float64\n",
      " 16  炉排启停       257384 non-null  object \n",
      " 17  炉排实际运行指令   257400 non-null  float64\n",
      " 18  炉排手动指令     257400 non-null  float64\n",
      " 19  炉排自动投退信号   257384 non-null  object \n",
      " 20  给水流量       257400 non-null  float64\n",
      " 21  主蒸汽流量      257400 non-null  float64\n",
      "dtypes: float64(18), object(4)\n",
      "memory usage: 45.2+ MB\n"
     ]
    }
   ],
   "source": [
    "df_trainSet = pd.read_csv(\"./data/train/trainset.csv\",encoding='utf-8-sig',index_col=['时间'],parse_dates=['时间'])\n",
    "df_trainSet.info()"
   ]
  },
  {
   "cell_type": "markdown",
   "metadata": {},
   "source": [
    "## 一些测试"
   ]
  },
  {
   "cell_type": "code",
   "execution_count": 7,
   "metadata": {},
   "outputs": [
    {
     "name": "stdout",
     "output_type": "stream",
     "text": [
      "<class 'pandas.core.frame.DataFrame'>\n",
      "DatetimeIndex: 257400 entries, 2021-12-20 00:00:00 to 2021-12-22 23:29:59\n",
      "Data columns (total 1 columns):\n",
      " #   Column  Non-Null Count   Dtype  \n",
      "---  ------  --------------   -----  \n",
      " 0   CO含量    257400 non-null  float64\n",
      "dtypes: float64(1)\n",
      "memory usage: 3.9 MB\n"
     ]
    }
   ],
   "source": [
    "df1 = pd.read_csv(\"./data/train/inputs/CO含量.csv\",encoding='utf-8',index_col=['时间'],parse_dates=['时间'])\n",
    "df2 = pd.read_csv(\"./data/train/inputs/HCL含量.csv\",encoding='utf-8',index_col=['时间'],parse_dates=['时间'])\n",
    "df1.info()"
   ]
  },
  {
   "cell_type": "code",
   "execution_count": 10,
   "metadata": {},
   "outputs": [
    {
     "name": "stdout",
     "output_type": "stream",
     "text": [
      "CO含量.csv'shape:(257400, 1)\n",
      "HCL含量.csv'shape:(257400, 1)\n",
      "NOx含量.csv'shape:(257400, 1)\n",
      "SO2含量.csv'shape:(257400, 1)\n",
      "一次风调门.csv'shape:(257400, 1)\n",
      "一次风量.csv'shape:(257400, 1)\n",
      "主蒸汽流量设定值.csv'shape:(257400, 1)\n",
      "二次风调门.csv'shape:(257400, 1)\n",
      "二次风量.csv'shape:(257400, 1)\n",
      "引风机转速.csv'shape:(257400, 1)\n",
      "推料器启停.csv'shape:(257382, 1)\n",
      "推料器手动指令.csv'shape:(257400, 1)\n",
      "推料器自动投退信号.csv'shape:(257382, 1)\n",
      "推料器自动指令.csv'shape:(257400, 1)\n",
      "氧量设定值.csv'shape:(257400, 1)\n",
      "汽包水位.csv'shape:(257400, 1)\n",
      "炉排启停.csv'shape:(257382, 1)\n",
      "炉排实际运行指令.csv'shape:(257400, 1)\n",
      "炉排手动指令.csv'shape:(257400, 1)\n",
      "炉排自动投退信号.csv'shape:(257382, 1)\n",
      "给水流量.csv'shape:(257400, 1)\n"
     ]
    }
   ],
   "source": [
    "# 查看各指标数据集的shape\n",
    "for file in os.listdir(\"./data/train/inputs/\"):\n",
    "    df_onefile = pd.read_csv((\"./data/train/inputs/\"+file),encoding='utf-8',index_col=['时间'],parse_dates=['时间'])\n",
    "    print(file+\"'shape\",df_onefile.shape,sep = ':',end='\\n')"
   ]
  },
  {
   "cell_type": "code",
   "execution_count": 15,
   "metadata": {},
   "outputs": [],
   "source": [
    "# 以炉排自动投退信号和给水流量为例进行concat\n",
    "df1 = pd.read_csv(\"./data/train/inputs/炉排自动投退信号.csv\",encoding='utf-8',index_col=['时间'],parse_dates=['时间'])\n",
    "df2 = pd.read_csv(\"./data/train/inputs/给水流量.csv\",encoding='utf-8',index_col=['时间'],parse_dates=['时间'])"
   ]
  },
  {
   "cell_type": "code",
   "execution_count": 16,
   "metadata": {},
   "outputs": [],
   "source": [
    "df3 = pd.concat([df1,df2],axis=1)"
   ]
  },
  {
   "cell_type": "code",
   "execution_count": 19,
   "metadata": {},
   "outputs": [
    {
     "data": {
      "text/plain": [
       "炉排自动投退信号    257384\n",
       "给水流量        257400\n",
       "dtype: int64"
      ]
     },
     "execution_count": 19,
     "metadata": {},
     "output_type": "execute_result"
    }
   ],
   "source": [
    "df3.apply(lambda x:sum(pd.notna(x)))"
   ]
  },
  {
   "cell_type": "code",
   "execution_count": 20,
   "metadata": {},
   "outputs": [
    {
     "data": {
      "text/html": [
       "<div>\n",
       "<style scoped>\n",
       "    .dataframe tbody tr th:only-of-type {\n",
       "        vertical-align: middle;\n",
       "    }\n",
       "\n",
       "    .dataframe tbody tr th {\n",
       "        vertical-align: top;\n",
       "    }\n",
       "\n",
       "    .dataframe thead th {\n",
       "        text-align: right;\n",
       "    }\n",
       "</style>\n",
       "<table border=\"1\" class=\"dataframe\">\n",
       "  <thead>\n",
       "    <tr style=\"text-align: right;\">\n",
       "      <th></th>\n",
       "      <th>炉排自动投退信号</th>\n",
       "      <th>给水流量</th>\n",
       "    </tr>\n",
       "    <tr>\n",
       "      <th>时间</th>\n",
       "      <th></th>\n",
       "      <th></th>\n",
       "    </tr>\n",
       "  </thead>\n",
       "  <tbody>\n",
       "    <tr>\n",
       "      <th>2021-12-20 00:00:00</th>\n",
       "      <td>NaN</td>\n",
       "      <td>73.4054</td>\n",
       "    </tr>\n",
       "    <tr>\n",
       "      <th>2021-12-20 00:00:01</th>\n",
       "      <td>NaN</td>\n",
       "      <td>73.5788</td>\n",
       "    </tr>\n",
       "    <tr>\n",
       "      <th>2021-12-20 00:00:02</th>\n",
       "      <td>NaN</td>\n",
       "      <td>73.7589</td>\n",
       "    </tr>\n",
       "    <tr>\n",
       "      <th>2021-12-20 00:00:03</th>\n",
       "      <td>NaN</td>\n",
       "      <td>73.9473</td>\n",
       "    </tr>\n",
       "    <tr>\n",
       "      <th>2021-12-20 00:00:04</th>\n",
       "      <td>NaN</td>\n",
       "      <td>74.1118</td>\n",
       "    </tr>\n",
       "    <tr>\n",
       "      <th>2021-12-20 00:00:05</th>\n",
       "      <td>NaN</td>\n",
       "      <td>74.2273</td>\n",
       "    </tr>\n",
       "    <tr>\n",
       "      <th>2021-12-21 00:00:01</th>\n",
       "      <td>NaN</td>\n",
       "      <td>69.2164</td>\n",
       "    </tr>\n",
       "    <tr>\n",
       "      <th>2021-12-21 00:00:02</th>\n",
       "      <td>NaN</td>\n",
       "      <td>69.3500</td>\n",
       "    </tr>\n",
       "    <tr>\n",
       "      <th>2021-12-21 00:00:03</th>\n",
       "      <td>NaN</td>\n",
       "      <td>69.4572</td>\n",
       "    </tr>\n",
       "    <tr>\n",
       "      <th>2021-12-21 00:00:04</th>\n",
       "      <td>NaN</td>\n",
       "      <td>69.5473</td>\n",
       "    </tr>\n",
       "    <tr>\n",
       "      <th>2021-12-21 00:00:05</th>\n",
       "      <td>NaN</td>\n",
       "      <td>69.6428</td>\n",
       "    </tr>\n",
       "    <tr>\n",
       "      <th>2021-12-22 00:00:01</th>\n",
       "      <td>NaN</td>\n",
       "      <td>77.0324</td>\n",
       "    </tr>\n",
       "    <tr>\n",
       "      <th>2021-12-22 00:00:02</th>\n",
       "      <td>NaN</td>\n",
       "      <td>77.0979</td>\n",
       "    </tr>\n",
       "    <tr>\n",
       "      <th>2021-12-22 00:00:03</th>\n",
       "      <td>NaN</td>\n",
       "      <td>77.2415</td>\n",
       "    </tr>\n",
       "    <tr>\n",
       "      <th>2021-12-22 00:00:04</th>\n",
       "      <td>NaN</td>\n",
       "      <td>77.3591</td>\n",
       "    </tr>\n",
       "    <tr>\n",
       "      <th>2021-12-22 00:00:05</th>\n",
       "      <td>NaN</td>\n",
       "      <td>77.4322</td>\n",
       "    </tr>\n",
       "  </tbody>\n",
       "</table>\n",
       "</div>"
      ],
      "text/plain": [
       "                    炉排自动投退信号     给水流量\n",
       "时间                                   \n",
       "2021-12-20 00:00:00      NaN  73.4054\n",
       "2021-12-20 00:00:01      NaN  73.5788\n",
       "2021-12-20 00:00:02      NaN  73.7589\n",
       "2021-12-20 00:00:03      NaN  73.9473\n",
       "2021-12-20 00:00:04      NaN  74.1118\n",
       "2021-12-20 00:00:05      NaN  74.2273\n",
       "2021-12-21 00:00:01      NaN  69.2164\n",
       "2021-12-21 00:00:02      NaN  69.3500\n",
       "2021-12-21 00:00:03      NaN  69.4572\n",
       "2021-12-21 00:00:04      NaN  69.5473\n",
       "2021-12-21 00:00:05      NaN  69.6428\n",
       "2021-12-22 00:00:01      NaN  77.0324\n",
       "2021-12-22 00:00:02      NaN  77.0979\n",
       "2021-12-22 00:00:03      NaN  77.2415\n",
       "2021-12-22 00:00:04      NaN  77.3591\n",
       "2021-12-22 00:00:05      NaN  77.4322"
      ]
     },
     "execution_count": 20,
     "metadata": {},
     "output_type": "execute_result"
    }
   ],
   "source": [
    "df3[pd.isna(df3['炉排自动投退信号'])]"
   ]
  }
 ],
 "metadata": {
  "kernelspec": {
   "display_name": "Python 3.8.3 ('base')",
   "language": "python",
   "name": "python3"
  },
  "language_info": {
   "codemirror_mode": {
    "name": "ipython",
    "version": 3
   },
   "file_extension": ".py",
   "mimetype": "text/x-python",
   "name": "python",
   "nbconvert_exporter": "python",
   "pygments_lexer": "ipython3",
   "version": "3.8.3"
  },
  "orig_nbformat": 4,
  "vscode": {
   "interpreter": {
    "hash": "d12a6980af1de3549060b7b451d48d445ec6b4aaeaf0b0e12a509d2182e95745"
   }
  }
 },
 "nbformat": 4,
 "nbformat_minor": 2
}
