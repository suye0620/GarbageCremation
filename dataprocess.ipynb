{
 "cells": [
  {
   "cell_type": "code",
   "execution_count": 2,
   "metadata": {},
   "outputs": [],
   "source": [
    "import pandas as pd\n",
    "import os"
   ]
  },
  {
   "cell_type": "code",
   "execution_count": null,
   "metadata": {},
   "outputs": [],
   "source": [
    "def createTrainSet(path:str,)->pd.DataFrame:\n",
    "    \"\"\"\n",
    "    :param path: 存放各指标数据集的路径\n",
    "    :return DataFrame: 生成训练集/测试集(pandas DataFrame)\n",
    "    \"\"\"\n",
    "    \n",
    "\n",
    "    return"
   ]
  },
  {
   "cell_type": "code",
   "execution_count": 7,
   "metadata": {},
   "outputs": [
    {
     "name": "stdout",
     "output_type": "stream",
     "text": [
      "<class 'pandas.core.frame.DataFrame'>\n",
      "DatetimeIndex: 257400 entries, 2021-12-20 00:00:00 to 2021-12-22 23:29:59\n",
      "Data columns (total 1 columns):\n",
      " #   Column  Non-Null Count   Dtype  \n",
      "---  ------  --------------   -----  \n",
      " 0   CO含量    257400 non-null  float64\n",
      "dtypes: float64(1)\n",
      "memory usage: 3.9 MB\n"
     ]
    }
   ],
   "source": [
    "df1 = pd.read_csv(\"./data/train/inputs/CO含量.csv\",encoding='utf-8',index_col=['时间'],parse_dates=['时间'])\n",
    "df2 = pd.read_csv(\"./data/train/inputs/HCL含量.csv\",encoding='utf-8',index_col=['时间'],parse_dates=['时间'])\n",
    "df1.info()"
   ]
  },
  {
   "cell_type": "code",
   "execution_count": 8,
   "metadata": {},
   "outputs": [
    {
     "name": "stdout",
     "output_type": "stream",
     "text": [
      "(257400, 1)\n",
      "(257400, 1)\n",
      "(257400, 1)\n",
      "(257400, 1)\n",
      "(257400, 1)\n",
      "(257400, 1)\n",
      "(257400, 1)\n",
      "(257400, 1)\n",
      "(257400, 1)\n",
      "(257400, 1)\n",
      "(257382, 1)\n",
      "(257400, 1)\n",
      "(257382, 1)\n",
      "(257400, 1)\n",
      "(257400, 1)\n",
      "(257400, 1)\n",
      "(257382, 1)\n",
      "(257400, 1)\n",
      "(257400, 1)\n",
      "(257382, 1)\n",
      "(257400, 1)\n"
     ]
    }
   ],
   "source": [
    "# 查看各指标数据集的shape\n",
    "for file in os.listdir(\"./data/train/inputs/\"):\n",
    "    df_onefile = pd.read_csv((\"./data/train/inputs/\"+file),encoding='utf-8',index_col=['时间'],parse_dates=['时间'])\n",
    "    print(df_onefile.shape,sep = ',')"
   ]
  },
  {
   "cell_type": "code",
   "execution_count": null,
   "metadata": {},
   "outputs": [],
   "source": []
  },
  {
   "cell_type": "code",
   "execution_count": null,
   "metadata": {},
   "outputs": [],
   "source": []
  }
 ],
 "metadata": {
  "kernelspec": {
   "display_name": "Python 3.8.3 ('base')",
   "language": "python",
   "name": "python3"
  },
  "language_info": {
   "codemirror_mode": {
    "name": "ipython",
    "version": 3
   },
   "file_extension": ".py",
   "mimetype": "text/x-python",
   "name": "python",
   "nbconvert_exporter": "python",
   "pygments_lexer": "ipython3",
   "version": "3.8.3"
  },
  "orig_nbformat": 4,
  "vscode": {
   "interpreter": {
    "hash": "d12a6980af1de3549060b7b451d48d445ec6b4aaeaf0b0e12a509d2182e95745"
   }
  }
 },
 "nbformat": 4,
 "nbformat_minor": 2
}
